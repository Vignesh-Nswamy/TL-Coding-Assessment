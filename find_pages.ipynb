{
  "nbformat": 4,
  "nbformat_minor": 0,
  "metadata": {
    "colab": {
      "name": "find_pages.ipynb",
      "provenance": [],
      "collapsed_sections": []
    },
    "kernelspec": {
      "name": "python3",
      "display_name": "Python 3"
    }
  },
  "cells": [
    {
      "cell_type": "code",
      "metadata": {
        "colab": {
          "base_uri": "https://localhost:8080/"
        },
        "id": "CoDjztq67tyv",
        "outputId": "4e5ab24f-fa3d-4d4e-89b1-aef448cfe962"
      },
      "source": [
        "%cd /content/drive/MyDrive/tl_assess"
      ],
      "execution_count": 1,
      "outputs": [
        {
          "output_type": "stream",
          "text": [
            "/content/drive/MyDrive/tl_assess\n"
          ],
          "name": "stdout"
        }
      ]
    },
    {
      "cell_type": "code",
      "metadata": {
        "colab": {
          "base_uri": "https://localhost:8080/"
        },
        "id": "qoYCD2zN788r",
        "outputId": "32a62922-982a-4d60-e0a9-6780e35adcea"
      },
      "source": [
        "%set_env PYTHONPATH=$PYTHONPATH:/content/drive/MyDrive/tl_assess\n",
        "!echo $PYTHONPATH"
      ],
      "execution_count": 2,
      "outputs": [
        {
          "output_type": "stream",
          "text": [
            "env: PYTHONPATH=$PYTHONPATH:/content/drive/MyDrive/tl_assess\n",
            "$PYTHONPATH:/content/drive/MyDrive/tl_assess\n"
          ],
          "name": "stdout"
        }
      ]
    },
    {
      "cell_type": "code",
      "metadata": {
        "colab": {
          "base_uri": "https://localhost:8080/"
        },
        "id": "BKQsrxbg8A2n",
        "outputId": "1774504c-5249-4510-b09d-365cd50af2d1"
      },
      "source": [
        "!pip install textblob warcio sentence-transformers langdetect"
      ],
      "execution_count": 3,
      "outputs": [
        {
          "output_type": "stream",
          "text": [
            "Requirement already satisfied: textblob in /usr/local/lib/python3.6/dist-packages (0.15.3)\n",
            "Collecting warcio\n",
            "\u001b[?25l  Downloading https://files.pythonhosted.org/packages/24/eb/060b7e1c76abf24692784d5cf9c52ec05ff21249c88515d7f03c676434db/warcio-1.7.4-py2.py3-none-any.whl (40kB)\n",
            "\u001b[K     |████████████████████████████████| 40kB 4.4MB/s \n",
            "\u001b[?25hCollecting sentence-transformers\n",
            "\u001b[?25l  Downloading https://files.pythonhosted.org/packages/f5/5a/6e41e8383913dd2ba923cdcd02be2e03911595f4d2f9de559ecbed80d2d3/sentence-transformers-0.3.9.tar.gz (64kB)\n",
            "\u001b[K     |████████████████████████████████| 71kB 5.9MB/s \n",
            "\u001b[?25hCollecting langdetect\n",
            "\u001b[?25l  Downloading https://files.pythonhosted.org/packages/56/a3/8407c1e62d5980188b4acc45ef3d94b933d14a2ebc9ef3505f22cf772570/langdetect-1.0.8.tar.gz (981kB)\n",
            "\u001b[K     |████████████████████████████████| 983kB 17.3MB/s \n",
            "\u001b[?25hRequirement already satisfied: nltk>=3.1 in /usr/local/lib/python3.6/dist-packages (from textblob) (3.2.5)\n",
            "Requirement already satisfied: six in /usr/local/lib/python3.6/dist-packages (from warcio) (1.15.0)\n",
            "Collecting transformers<3.6.0,>=3.1.0\n",
            "\u001b[?25l  Downloading https://files.pythonhosted.org/packages/3a/83/e74092e7f24a08d751aa59b37a9fc572b2e4af3918cb66f7766c3affb1b4/transformers-3.5.1-py3-none-any.whl (1.3MB)\n",
            "\u001b[K     |████████████████████████████████| 1.3MB 40.7MB/s \n",
            "\u001b[?25hRequirement already satisfied: tqdm in /usr/local/lib/python3.6/dist-packages (from sentence-transformers) (4.41.1)\n",
            "Requirement already satisfied: torch>=1.6.0 in /usr/local/lib/python3.6/dist-packages (from sentence-transformers) (1.7.0+cu101)\n",
            "Requirement already satisfied: numpy in /usr/local/lib/python3.6/dist-packages (from sentence-transformers) (1.18.5)\n",
            "Requirement already satisfied: scikit-learn in /usr/local/lib/python3.6/dist-packages (from sentence-transformers) (0.22.2.post1)\n",
            "Requirement already satisfied: scipy in /usr/local/lib/python3.6/dist-packages (from sentence-transformers) (1.4.1)\n",
            "Collecting tokenizers==0.9.3\n",
            "\u001b[?25l  Downloading https://files.pythonhosted.org/packages/4c/34/b39eb9994bc3c999270b69c9eea40ecc6f0e97991dba28282b9fd32d44ee/tokenizers-0.9.3-cp36-cp36m-manylinux1_x86_64.whl (2.9MB)\n",
            "\u001b[K     |████████████████████████████████| 2.9MB 38.1MB/s \n",
            "\u001b[?25hRequirement already satisfied: protobuf in /usr/local/lib/python3.6/dist-packages (from transformers<3.6.0,>=3.1.0->sentence-transformers) (3.12.4)\n",
            "Requirement already satisfied: requests in /usr/local/lib/python3.6/dist-packages (from transformers<3.6.0,>=3.1.0->sentence-transformers) (2.23.0)\n",
            "Requirement already satisfied: filelock in /usr/local/lib/python3.6/dist-packages (from transformers<3.6.0,>=3.1.0->sentence-transformers) (3.0.12)\n",
            "Requirement already satisfied: dataclasses; python_version < \"3.7\" in /usr/local/lib/python3.6/dist-packages (from transformers<3.6.0,>=3.1.0->sentence-transformers) (0.8)\n",
            "Requirement already satisfied: packaging in /usr/local/lib/python3.6/dist-packages (from transformers<3.6.0,>=3.1.0->sentence-transformers) (20.7)\n",
            "Collecting sacremoses\n",
            "\u001b[?25l  Downloading https://files.pythonhosted.org/packages/7d/34/09d19aff26edcc8eb2a01bed8e98f13a1537005d31e95233fd48216eed10/sacremoses-0.0.43.tar.gz (883kB)\n",
            "\u001b[K     |████████████████████████████████| 890kB 45.0MB/s \n",
            "\u001b[?25hCollecting sentencepiece==0.1.91\n",
            "\u001b[?25l  Downloading https://files.pythonhosted.org/packages/d4/a4/d0a884c4300004a78cca907a6ff9a5e9fe4f090f5d95ab341c53d28cbc58/sentencepiece-0.1.91-cp36-cp36m-manylinux1_x86_64.whl (1.1MB)\n",
            "\u001b[K     |████████████████████████████████| 1.1MB 50.0MB/s \n",
            "\u001b[?25hRequirement already satisfied: regex!=2019.12.17 in /usr/local/lib/python3.6/dist-packages (from transformers<3.6.0,>=3.1.0->sentence-transformers) (2019.12.20)\n",
            "Requirement already satisfied: future in /usr/local/lib/python3.6/dist-packages (from torch>=1.6.0->sentence-transformers) (0.16.0)\n",
            "Requirement already satisfied: typing-extensions in /usr/local/lib/python3.6/dist-packages (from torch>=1.6.0->sentence-transformers) (3.7.4.3)\n",
            "Requirement already satisfied: joblib>=0.11 in /usr/local/lib/python3.6/dist-packages (from scikit-learn->sentence-transformers) (0.17.0)\n",
            "Requirement already satisfied: setuptools in /usr/local/lib/python3.6/dist-packages (from protobuf->transformers<3.6.0,>=3.1.0->sentence-transformers) (50.3.2)\n",
            "Requirement already satisfied: urllib3!=1.25.0,!=1.25.1,<1.26,>=1.21.1 in /usr/local/lib/python3.6/dist-packages (from requests->transformers<3.6.0,>=3.1.0->sentence-transformers) (1.24.3)\n",
            "Requirement already satisfied: certifi>=2017.4.17 in /usr/local/lib/python3.6/dist-packages (from requests->transformers<3.6.0,>=3.1.0->sentence-transformers) (2020.12.5)\n",
            "Requirement already satisfied: idna<3,>=2.5 in /usr/local/lib/python3.6/dist-packages (from requests->transformers<3.6.0,>=3.1.0->sentence-transformers) (2.10)\n",
            "Requirement already satisfied: chardet<4,>=3.0.2 in /usr/local/lib/python3.6/dist-packages (from requests->transformers<3.6.0,>=3.1.0->sentence-transformers) (3.0.4)\n",
            "Requirement already satisfied: pyparsing>=2.0.2 in /usr/local/lib/python3.6/dist-packages (from packaging->transformers<3.6.0,>=3.1.0->sentence-transformers) (2.4.7)\n",
            "Requirement already satisfied: click in /usr/local/lib/python3.6/dist-packages (from sacremoses->transformers<3.6.0,>=3.1.0->sentence-transformers) (7.1.2)\n",
            "Building wheels for collected packages: sentence-transformers, langdetect, sacremoses\n",
            "  Building wheel for sentence-transformers (setup.py) ... \u001b[?25l\u001b[?25hdone\n",
            "  Created wheel for sentence-transformers: filename=sentence_transformers-0.3.9-cp36-none-any.whl size=101034 sha256=440500984035e982b890c133d148cc8e1e89fa90fba291a945cab7ead8574189\n",
            "  Stored in directory: /root/.cache/pip/wheels/fc/89/43/f2f5bc00b03ef9724b0f6254a97eaf159a4c4ddc024b33e07a\n",
            "  Building wheel for langdetect (setup.py) ... \u001b[?25l\u001b[?25hdone\n",
            "  Created wheel for langdetect: filename=langdetect-1.0.8-cp36-none-any.whl size=993193 sha256=2682aa0d9fd0cc2970188a481b9d0a1d09aed9be71c5448a524991d58f69b02e\n",
            "  Stored in directory: /root/.cache/pip/wheels/8d/b3/aa/6d99de9f3841d7d3d40a60ea06e6d669e8e5012e6c8b947a57\n",
            "  Building wheel for sacremoses (setup.py) ... \u001b[?25l\u001b[?25hdone\n",
            "  Created wheel for sacremoses: filename=sacremoses-0.0.43-cp36-none-any.whl size=893261 sha256=e978ada110aafdcd3fea84cf558eaf44c66e811e7a617ecbf9f913b3cc514b4a\n",
            "  Stored in directory: /root/.cache/pip/wheels/29/3c/fd/7ce5c3f0666dab31a50123635e6fb5e19ceb42ce38d4e58f45\n",
            "Successfully built sentence-transformers langdetect sacremoses\n",
            "Installing collected packages: warcio, tokenizers, sacremoses, sentencepiece, transformers, sentence-transformers, langdetect\n",
            "Successfully installed langdetect-1.0.8 sacremoses-0.0.43 sentence-transformers-0.3.9 sentencepiece-0.1.91 tokenizers-0.9.3 transformers-3.5.1 warcio-1.7.4\n"
          ],
          "name": "stdout"
        }
      ]
    },
    {
      "cell_type": "code",
      "metadata": {
        "id": "P3G2XPtY8CT7"
      },
      "source": [
        "import re\n",
        "import io\n",
        "import sys\n",
        "import gzip\n",
        "import pickle\n",
        "import requests\n",
        "import traceback\n",
        "import langdetect\n",
        "from tqdm import tqdm\n",
        "from langdetect import detect\n",
        "from bs4 import BeautifulSoup\n",
        "from textblob import TextBlob\n",
        "from warcio.archiveiterator import ArchiveIterator\n",
        "from sentence_transformers import SentenceTransformer\n",
        "from sklearn.metrics.pairwise import cosine_similarity"
      ],
      "execution_count": 4,
      "outputs": []
    },
    {
      "cell_type": "code",
      "metadata": {
        "id": "wi3hRbpX8HRB"
      },
      "source": [
        "title_re = re.compile(\"<title>(.+?)</title>\")\n",
        "\n",
        "url_regex = re.compile(\n",
        "        r'^(?:http|ftp)s?://' # http:// or https://\n",
        "        r'(?:(?:[A-Z0-9](?:[A-Z0-9-]{0,61}[A-Z0-9])?\\.)+(?:[A-Z]{2,6}\\.?|[A-Z0-9-]{2,}\\.?)|' #domain...\n",
        "        r'localhost|' #localhost...\n",
        "        r'\\d{1,3}\\.\\d{1,3}\\.\\d{1,3}\\.\\d{1,3})' # ...or ip\n",
        "        r'(?::\\d+)?' # optional port\n",
        "        r'(?:/?|[/?]\\S+)$', re.IGNORECASE)"
      ],
      "execution_count": 5,
      "outputs": []
    },
    {
      "cell_type": "code",
      "metadata": {
        "id": "yv3Mboqd8JIr"
      },
      "source": [
        "def get_titles_from_warc(url):\n",
        "    resp = requests.get(url, stream=True)\n",
        "\n",
        "    for record in ArchiveIterator(resp.raw, arc2warc=True):\n",
        "        if record.rec_type == 'warcinfo':\n",
        "            continue\n",
        "        \n",
        "        if re.match(url_regex, record.rec_headers.get_header(\"WARC-Target-URI\")) is None:\n",
        "            continue\n",
        "\n",
        "        elif record.rec_type is not None and record.rec_type == 'response':\n",
        "            if record.http_headers is not None and  record.http_headers.get_header('Content-Type') is not None and record.http_headers.get_header('Content-Type') == 'text/html':\n",
        "                html_content = record.content_stream().read().decode(\"utf-8\", \"replace\")\n",
        "                if html_content is not None:\n",
        "                    page_uri = record.rec_headers.get_header('WARC-Target-URI')\n",
        "                    if title_re.search(html_content) is not None:\n",
        "                        title = title_re.search(html_content).group(1)\n",
        "                        try:\n",
        "                            if detect(title) == 'en' and ('covid' in title.lower() or 'corona' in title.lower() or 'pandemic' in title.lower()):\n",
        "                                yield title, page_uri\n",
        "                        except langdetect.lang_detect_exception.LangDetectException:\n",
        "                            # traceback.print_exc()\n",
        "                            continue"
      ],
      "execution_count": 6,
      "outputs": []
    },
    {
      "cell_type": "code",
      "metadata": {
        "colab": {
          "base_uri": "https://localhost:8080/"
        },
        "id": "CCw3CC498LcH",
        "outputId": "63d5859b-8a67-4095-e1a5-279289c07e9c"
      },
      "source": [
        "search_str = 'Economic impact of Covid-19'\n",
        "relevent_uri = list()\n",
        "model = SentenceTransformer('bert-large-nli-stsb-mean-tokens')\n",
        "\n",
        "threshold = 0.5"
      ],
      "execution_count": 7,
      "outputs": [
        {
          "output_type": "stream",
          "text": [
            "100%|██████████| 1.24G/1.24G [01:08<00:00, 18.3MB/s]\n"
          ],
          "name": "stderr"
        }
      ]
    },
    {
      "cell_type": "code",
      "metadata": {
        "id": "2-dLg6C48V2u"
      },
      "source": [
        "warc_list = [\n",
        "    'https://commoncrawl.s3.amazonaws.com/crawl-data/CC-MAIN-2020-50/warc.paths.gz',\n",
        "    'https://commoncrawl.s3.amazonaws.com/crawl-data/CC-MAIN-2020-45/warc.paths.gz',\n",
        "    # 'https://commoncrawl.s3.amazonaws.com/crawl-data/CC-MAIN-2020-40/warc.paths.gz',\n",
        "    # 'https://commoncrawl.s3.amazonaws.com/crawl-data/CC-MAIN-2020-34/warc.paths.gz',\n",
        "    # 'https://commoncrawl.s3.amazonaws.com/crawl-data/CC-MAIN-2020-29/warc.paths.gz',\n",
        "    # 'https://commoncrawl.s3.amazonaws.com/crawl-data/CC-MAIN-2020-24/warc.paths.gz',\n",
        "    # 'https://commoncrawl.s3.amazonaws.com/crawl-data/CC-MAIN-2020-16/warc.paths.gz'\n",
        "]"
      ],
      "execution_count": 8,
      "outputs": []
    },
    {
      "cell_type": "code",
      "metadata": {
        "colab": {
          "base_uri": "https://localhost:8080/"
        },
        "id": "Wlop9s4r8Zwb",
        "outputId": "5a1b56fd-3240-4d3a-bbc4-18362161760c"
      },
      "source": [
        "for warc_all_uri in warc_list:\n",
        "    try:\n",
        "        web_response = requests.get(warc_all_uri, stream=True)\n",
        "        gz_file = web_response.content\n",
        "\n",
        "        f = io.BytesIO(gz_file)\n",
        "        with gzip.GzipFile(fileobj=f) as fh:\n",
        "            for incomplete_uri in fh:\n",
        "                incomplete_uri = incomplete_uri.decode().replace('\\n', '')\n",
        "                warc_uri = f'https://commoncrawl.s3.amazonaws.com/{incomplete_uri}'\n",
        "                # print(f'Extracting from: {warc_uri}')\n",
        "                for title, page_uri in get_titles_from_warc(warc_uri):\n",
        "                    sentences = [\n",
        "                        title,\n",
        "                        search_str\n",
        "                    ]\n",
        "                    sen_embeddings = model.encode(sentences)\n",
        "                    cos_sim = cosine_similarity(sen_embeddings)\n",
        "                    if cos_sim[0][1] > threshold:\n",
        "                        print(page_uri)\n",
        "                        relevent_uri.append(page_uri)\n",
        "                \n",
        "                if len(relevent_uri) > 1000:\n",
        "                    break\n",
        "    except:\n",
        "        with open('relevant_uri.pkl', 'wb') as f:\n",
        "            pickle.dump(relevent_uri, f)\n",
        "            traceback.print_exc()\n",
        "        sys.exit(0)\n",
        "\n",
        "with open('relevant_uri.pkl', 'wb') as f:\n",
        "    pickle.dump(relevent_uri, f)"
      ],
      "execution_count": null,
      "outputs": [
        {
          "output_type": "stream",
          "text": [
            "https://gartic.com.br/Covid20_\n",
            "https://infectionrank.org/coronavirus/united-states/florida/charlotte-county/\n",
            "https://www.batteryenergy.com.au/news/battery-energy-update-covid-19\n",
            "https://teletype.in/@unmesh20/peXZN-27d\n",
            "https://www.bozeman-lodge.com/senior-living/mt/bozeman/newsroom/weekly-covid-19-update\n",
            "https://pw.lacounty.gov/covid19-outdoor-permits/\n",
            "https://www.gardeniacottagecornwall.co.uk/en/2061403/covid-19\n",
            "https://www.sinksflowershop.com/covid-19-update\n",
            "http://electronics-trading.com/COVID-19.htm\n",
            "https://fossencamping.se/bokningsregler.html\n",
            "https://www.pittlawpc.com/news/What-You-Need-to-Know-About-Sick-Leave-and-FMLA-During-COVID-19_AE395.html?view=4GR22\n",
            "http://enghunan.gov.cn/hneng/News/Localnews/202011/t20201121_13963639.html\n",
            "http://www.yizheng21.com/resources/technical-blog/130-an-update-on-covid-19\n",
            "https://covid-19.ideas2it.com/\n",
            "http://covidresearchtrials.com/11072020/output/covid/drug/drug409.html\n",
            "https://www.happymed.tv/the-wall-street-journal-cum-se-transmite-virusul-covid-19/\n",
            "https://www.comune.fontanettopo.vc.it/archivio/news/RIDUZIONE-TARI--2020-UTENZE-NON-DOMESTICHE-COVID19_667.asp\n",
            "http://www.hppxl.com/safety/covid-19-ppe\n",
            "https://www.eurekalert.org/pub_releases/2020-10/sfdm-ctc100620.php\n",
            "https://infectionrank.org/coronavirus/widget/\n",
            "http://forgeaheadcoaching.com/2020/10/29/getting-through-covid-19-how-a-disruptive-change-course-can-help/\n",
            "http://gallery.thegamma.net/89/covid19-cases-in-camden-and-richmond/embed\n",
            "http://www.surinenglish.com/opinion/202004/08/easter-covid-20200408183056-v.html\n",
            "https://infectionrank.org/coronavirus/united-states/texas/limestone-county/\n",
            "https://www.lysefjordenadventure.no/news-from-lysefjorden-adventure/covid-19\n",
            "http://gallery.thegamma.net/88/covid19-cases-in-london-on-5-october-2020/embed\n",
            "http://m.hanoitimes.vn/new-direction-for-vietnamese-enterprises-post-covid-19-314898.html\n",
            "http://www.wiu.edu/wiucalendar/index.sphp?control=view&id=34657&calendars%5B%5D=94&calendars%5B%5D=2&calendars%5B%5D=22&calendars%5B%5D=38&calendars%5B%5D=8&calendars%5B%5D=74&calendars%5B%5D=60&calendars%5B%5D=82&calendars%5B%5D=103&calendars%5B%5D=35&calendars%5B%5D=55&calendars%5B%5D=91&calendars%5B%5D=14&calendars%5B%5D=18&calendars%5B%5D=58&calendars%5B%5D=43&calendars%5B%5D=105&calendars%5B%5D=44&calendars%5B%5D=21&calendars%5B%5D=12&calendars%5B%5D=68&calendars%5B%5D=27&calendars%5B%5D=13&calendars%5B%5D=76&calendars%5B%5D=99&calendars%5B%5D=10&calendars%5B%5D=37&calendars%5B%5D=6&calendars%5B%5D=70&calendars%5B%5D=98&calendars%5B%5D=104&calendars%5B%5D=64&calendars%5B%5D=31&calendars%5B%5D=48&calendars%5B%5D=85&calendars%5B%5D=95&calendars%5B%5D=93&calendars%5B%5D=56&calendars%5B%5D=9&calendars%5B%5D=97&calendars%5B%5D=1&calendars%5B%5D=11&calendars%5B%5D=25&calendars%5B%5D=5&calendars%5B%5D=33&calendars%5B%5D=40&calendars%5B%5D=19&calendars%5B%5D=96&calendars%5B%5D=63&calendars%5B%5D=61&calendars%5B%5D=17\n",
            "https://menon.in/covid\n",
            "https://www.thesundaily.my/local/action-plan-to-control-covid-19-may-be-tabled-next-week-ismail-sabri-AY4908277\n",
            "https://www.york.ac.uk/library/visiting-us-covid-19/\n",
            "https://www.miragenews.com/mining-supports-australian-exports-and-economy-through-covid-19-pandemic/\n",
            "http://covidresearchtrials.com/11072020/output/covid/drug/drug1745.html\n",
            "https://clarkscemeteryflowers.com/oct_16_covid_-_2020_005.htm\n",
            "http://www.xprimm.com/GENERALI-actions-against-COVID-19-in-the-ACEER-Region-articol-117,171-15224.htm\n",
            "https://www.aimgroupinternational.com/newsroom/blogroll-covid\n",
            "https://infectionrank.org/coronavirus/united-states/pennsylvania/cumberland-county/\n",
            "https://www.twall.co.uk/news/covid-19-update-414\n",
            "https://eu-ems.com/contact.asp?event_id=4458&page_id=10825\n",
            "https://www.praxishealthcareindia.com/ppe-kit.html\n",
            "http://covidresearchtrials.com/11072020/output/covid/drug/drug3782.html\n",
            "http://stpaulshasland.com/covid-19.html\n",
            "https://www.mosaicventures.com/patterns/covid-19-the-future-of-work-and-second-order-thinking\n",
            "https://datawrapper.dwcdn.net/OGG2V/7/\n",
            "https://smith.ai/blog/how-to-practice-critical-financial-management-for-your-business-during-covid-19\n",
            "https://teletype.in/@vilasmrfr/L34sw2Avz\n",
            "http://covidresearchtrials.com/11072020/output/covid/drug/drug659.html\n"
          ],
          "name": "stdout"
        }
      ]
    }
  ]
}