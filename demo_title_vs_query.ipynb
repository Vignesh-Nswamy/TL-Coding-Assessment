{
 "cells": [
  {
   "cell_type": "markdown",
   "metadata": {},
   "source": [
    "# Filtering relevant pages using cosine similarity between page title and query string"
   ]
  },
  {
   "cell_type": "markdown",
   "metadata": {},
   "source": [
    "In this demo, the efficacy of sentence BERT embeddings and pairwise cosine similarity is demonstrated. This is just an explanation and Common Crawl data has not been used"
   ]
  },
  {
   "cell_type": "code",
   "execution_count": 15,
   "metadata": {},
   "outputs": [],
   "source": [
    "from sentence_transformers import SentenceTransformer"
   ]
  },
  {
   "cell_type": "code",
   "execution_count": 16,
   "metadata": {},
   "outputs": [],
   "source": [
    "import requests\n",
    "import nltk\n",
    "from bs4 import BeautifulSoup"
   ]
  },
  {
   "cell_type": "code",
   "execution_count": 17,
   "metadata": {},
   "outputs": [],
   "source": [
    "from sklearn.feature_extraction.text import TfidfVectorizer \n",
    "from sklearn.metrics.pairwise import cosine_similarity\n",
    "from sklearn.metrics.pairwise import euclidean_distances"
   ]
  },
  {
   "cell_type": "markdown",
   "metadata": {},
   "source": [
    "## Extract title of a web page"
   ]
  },
  {
   "cell_type": "code",
   "execution_count": 18,
   "metadata": {},
   "outputs": [],
   "source": [
    "def get_title(url):\n",
    "    reqs = requests.get(url)   \n",
    "    soup = BeautifulSoup(reqs.text, 'html.parser') \n",
    "    return soup.title.get_text(' ', strip=True)"
   ]
  },
  {
   "cell_type": "markdown",
   "metadata": {},
   "source": [
    "## We utilize a pre-trained ROBERTA model to embed our titles (sentences)"
   ]
  },
  {
   "cell_type": "markdown",
   "metadata": {},
   "source": [
    "ROBERTA is specifically used here because it has the highest Semantic Textual Similarity scores among its counterparts as mentioned by the authors of this library here - https://github.com/UKPLab/sentence-transformers#performance."
   ]
  },
  {
   "cell_type": "markdown",
   "metadata": {},
   "source": [
    "**Results may vary as we change the sentence embedder**"
   ]
  },
  {
   "cell_type": "code",
   "execution_count": 23,
   "metadata": {},
   "outputs": [
    {
     "name": "stderr",
     "output_type": "stream",
     "text": [
      "100%|██████████| 1.24G/1.24G [01:27<00:00, 14.1MB/s] \n"
     ]
    }
   ],
   "source": [
    "model = SentenceTransformer('roberta-large-nli-stsb-mean-tokens')"
   ]
  },
  {
   "cell_type": "markdown",
   "metadata": {},
   "source": [
    "## Some Web pages (both related and unrelated to query)"
   ]
  },
  {
   "cell_type": "code",
   "execution_count": 24,
   "metadata": {},
   "outputs": [],
   "source": [
    "docs = [get_title('https://www.who.int/news/item/13-10-2020-impact-of-covid-19-on-people\\'s-livelihoods-their-health-and-our-food-systems'),\n",
    "        get_title('https://en.wikipedia.org/wiki/Economic_impact_of_the_COVID-19_pandemic'),\n",
    "        get_title('https://en.wikipedia.org/wiki/Egg'),\n",
    "        get_title('https://www.youtube.com/watch?v=0cGLrSpaf4o'),\n",
    "        'Economic impact of covid pandamic',\n",
    "        'Adverse effects of covid-19 on global businesses',\n",
    "        'The US Economy and How Covid-19 has affected it',\n",
    "        'Impact of the drama',\n",
    "        'Economic impact of Covid-19' # Query term\n",
    "       ]"
   ]
  },
  {
   "cell_type": "markdown",
   "metadata": {},
   "source": [
    "Below are the titles of the web pages specified above"
   ]
  },
  {
   "cell_type": "code",
   "execution_count": 25,
   "metadata": {},
   "outputs": [
    {
     "data": {
      "text/plain": [
       "[\"Impact of COVID-19 on people's livelihoods, their health and our food systems\",\n",
       " 'Economic impact of the COVID-19 pandemic - Wikipedia',\n",
       " 'Egg - Wikipedia',\n",
       " 'Coronavirus outbreak: The impact COVID-19 is having on the global economy - YouTube',\n",
       " 'COVID-19 Notice',\n",
       " 'Economic impact of covid pandamic',\n",
       " 'Adverse effects of covid-19 on global businesses',\n",
       " 'The US Economy and How Covid-19 has affected it',\n",
       " 'Impact of the drama',\n",
       " 'Economic impact of Covid-19']"
      ]
     },
     "execution_count": 25,
     "metadata": {},
     "output_type": "execute_result"
    }
   ],
   "source": [
    "docs"
   ]
  },
  {
   "cell_type": "markdown",
   "metadata": {},
   "source": [
    "## Cosine Similarity"
   ]
  },
  {
   "cell_type": "markdown",
   "metadata": {},
   "source": [
    "Pairwise cosine similarity is calculated by sklearn's cosine_similarity function. A tensor containing embeddings of nine sentences would yield a matrix of shape 9x9 which the similarity between each pair of documents."
   ]
  },
  {
   "cell_type": "markdown",
   "metadata": {},
   "source": [
    "**Since we only care about each doc-embedding's similarity to the query's embedding (last item in docs list), we take the last row/column of the matrix**"
   ]
  },
  {
   "cell_type": "code",
   "execution_count": 26,
   "metadata": {},
   "outputs": [
    {
     "data": {
      "text/plain": [
       "array([0.5266193 , 0.75996774, 0.32760704, 0.54800946, 0.7709876 ,\n",
       "       0.7430022 , 0.6930926 , 0.7830977 , 0.43976095, 1.        ],\n",
       "      dtype=float32)"
      ]
     },
     "execution_count": 26,
     "metadata": {},
     "output_type": "execute_result"
    }
   ],
   "source": [
    "cosine_similarity(model.encode(docs))[:, -1]"
   ]
  },
  {
   "cell_type": "markdown",
   "metadata": {},
   "source": [
    "### Discussing results:"
   ]
  },
  {
   "cell_type": "markdown",
   "metadata": {},
   "source": [
    "As seen above, extracted cosine similarities match expectations and exhibit sound logical results."
   ]
  }
 ],
 "metadata": {
  "kernelspec": {
   "display_name": "Python 3",
   "language": "python",
   "name": "python3"
  },
  "language_info": {
   "codemirror_mode": {
    "name": "ipython",
    "version": 3
   },
   "file_extension": ".py",
   "mimetype": "text/x-python",
   "name": "python",
   "nbconvert_exporter": "python",
   "pygments_lexer": "ipython3",
   "version": "3.8.5"
  }
 },
 "nbformat": 4,
 "nbformat_minor": 4
}
