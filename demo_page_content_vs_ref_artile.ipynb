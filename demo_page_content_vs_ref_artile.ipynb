{
 "cells": [
  {
   "cell_type": "markdown",
   "metadata": {},
   "source": [
    "# Filtering relevant pages using cosine similarity between page title and query string"
   ]
  },
  {
   "cell_type": "markdown",
   "metadata": {},
   "source": [
    "In this demo, the efficacy of **sentence BERT's document embeddings** and pairwise cosine similarity is demonstrated. This is just an explanation and Common Crawl data has not been used"
   ]
  },
  {
   "cell_type": "code",
   "execution_count": 1,
   "metadata": {},
   "outputs": [],
   "source": [
    "from sentence_transformers import SentenceTransformer"
   ]
  },
  {
   "cell_type": "code",
   "execution_count": 2,
   "metadata": {},
   "outputs": [],
   "source": [
    "import requests\n",
    "import nltk\n",
    "import nlp\n",
    "from bs4 import BeautifulSoup\n",
    "import trafilatura\n",
    "import numpy as np"
   ]
  },
  {
   "cell_type": "code",
   "execution_count": 3,
   "metadata": {},
   "outputs": [],
   "source": [
    "from nltk.corpus import stopwords\n",
    "from nltk.stem.porter import PorterStemmer\n",
    "import string\n",
    "import re"
   ]
  },
  {
   "cell_type": "code",
   "execution_count": 4,
   "metadata": {},
   "outputs": [],
   "source": [
    "from sklearn.feature_extraction.text import TfidfVectorizer \n",
    "from sklearn.metrics.pairwise import cosine_similarity\n",
    "from sklearn.metrics.pairwise import euclidean_distances"
   ]
  },
  {
   "cell_type": "code",
   "execution_count": 5,
   "metadata": {},
   "outputs": [
    {
     "name": "stderr",
     "output_type": "stream",
     "text": [
      "[nltk_data] Downloading package stopwords to\n",
      "[nltk_data]     /home/vignesh/nltk_data...\n",
      "[nltk_data]   Package stopwords is already up-to-date!\n"
     ]
    },
    {
     "data": {
      "text/plain": [
       "True"
      ]
     },
     "execution_count": 5,
     "metadata": {},
     "output_type": "execute_result"
    }
   ],
   "source": [
    "nltk.download('stopwords')"
   ]
  },
  {
   "cell_type": "markdown",
   "metadata": {},
   "source": [
    "## Extract title of a web page"
   ]
  },
  {
   "cell_type": "code",
   "execution_count": 6,
   "metadata": {},
   "outputs": [],
   "source": [
    "porter = PorterStemmer()\n",
    "regex = re.compile('[%s]' % re.escape(string.punctuation))\n",
    "sw = stopwords.words(\"english\")"
   ]
  },
  {
   "cell_type": "code",
   "execution_count": 7,
   "metadata": {},
   "outputs": [],
   "source": [
    "def clean_text(text):\n",
    "    text = text.lower()\n",
    "    text = regex.sub('', text)\n",
    "    text = ' '.join([word for word in text.split() if (len(word)>=4)])\n",
    "    text = ' '.join([word for word in text.split() if word not in sw])\n",
    "    text = ' '.join([porter.stem(word) for word in text.split()])\n",
    "    return text"
   ]
  },
  {
   "cell_type": "code",
   "execution_count": 8,
   "metadata": {},
   "outputs": [],
   "source": [
    "def get_page_content(url):\n",
    "    downloaded = trafilatura.fetch_url(url)\n",
    "    return clean_text(trafilatura.extract(downloaded))"
   ]
  },
  {
   "cell_type": "markdown",
   "metadata": {},
   "source": [
    "## Reference (gold standard) article"
   ]
  },
  {
   "cell_type": "markdown",
   "metadata": {},
   "source": [
    "Our approach is to embed one or more gold standard reference  articles and use them to find how similar the embeddings of other web page contents are to the query we care about. Instead of using sentence BERT embeddings, TF-IDF document vectors are used. However, either approach should yield similar results."
   ]
  },
  {
   "cell_type": "markdown",
   "metadata": {},
   "source": [
    "### We utilize tf-idf Vectorizer to embed our reference documents"
   ]
  },
  {
   "cell_type": "code",
   "execution_count": 9,
   "metadata": {},
   "outputs": [],
   "source": [
    "ref_docs = [\n",
    "    get_page_content('https://en.wikipedia.org/wiki/Economic_impact_of_the_COVID-19_pandemic'),\n",
    "    get_page_content('https://www.who.int/news/item/13-10-2020-impact-of-covid-19-on-people\\'s-livelihoods-their-health-and-our-food-systems'),\n",
    "    get_page_content('https://www.brookings.edu/research/ten-facts-about-covid-19-and-the-u-s-economy/'),\n",
    "    get_page_content('https://www.mckinsey.com/business-functions/risk/our-insights/covid-19-implications-for-business'),\n",
    "    get_page_content('https://carsey.unh.edu/COVID-19-Economic-Impact-By-State'),\n",
    "    get_page_content('https://www.frontiersin.org/articles/10.3389/fpubh.2020.00241/full'),\n",
    "    get_page_content('https://www.pewsocialtrends.org/2020/09/24/economic-fallout-from-covid-19-continues-to-hit-lower-income-americans-the-hardest/'),\n",
    "    get_page_content('https://www.reuters.com/article/us-usa-economy-poll/u-s-economy-to-slow-in-first-quarter-but-reach-pre-covid-19-levels-in-a-year-reuters-poll-idUSKBN28K00A'),\n",
    "    get_page_content('https://www.mckinsey.com/business-functions/strategy-and-corporate-finance/our-insights/the-coronavirus-effect-on-global-economic-sentiment')\n",
    "]\n",
    "\n",
    "vectorizer = TfidfVectorizer()\n",
    "docs_tfidf = vectorizer.fit_transform(ref_docs)"
   ]
  },
  {
   "cell_type": "markdown",
   "metadata": {},
   "source": [
    "## Some Web pages (both related and unrelated to query)"
   ]
  },
  {
   "cell_type": "code",
   "execution_count": 10,
   "metadata": {},
   "outputs": [],
   "source": [
    "docs = [get_page_content('https://www.who.int/news/item/13-10-2020-impact-of-covid-19-on-people\\'s-livelihoods-their-health-and-our-food-systems'),\n",
    "        get_page_content('https://en.wikipedia.org/wiki/Egg'),\n",
    "        get_page_content('https://www.youtube.com/watch?v=0cGLrSpaf4o')\n",
    "]"
   ]
  },
  {
   "cell_type": "markdown",
   "metadata": {},
   "source": [
    "## Cosine Similarity"
   ]
  },
  {
   "cell_type": "markdown",
   "metadata": {},
   "source": [
    "**Since we only care about each doc-embedding's similarity to the query's embedding (last item in docs list), we take the last row/column of the matrix**"
   ]
  },
  {
   "cell_type": "code",
   "execution_count": 11,
   "metadata": {},
   "outputs": [
    {
     "name": "stdout",
     "output_type": "stream",
     "text": [
      "0.21832993389217661\n",
      "0.10310503939757354\n",
      "0.08803144907161992\n"
     ]
    }
   ],
   "source": [
    "for doc in docs:\n",
    "    doc_vector = vectorizer.transform([doc])\n",
    "    cosineSimilarities = np.average(cosine_similarity(doc_vector, docs_tfidf).flatten())\n",
    "    print(cosineSimilarities)"
   ]
  },
  {
   "cell_type": "markdown",
   "metadata": {},
   "source": [
    "### Discussing results:"
   ]
  },
  {
   "cell_type": "markdown",
   "metadata": {},
   "source": [
    "As seen above, extracted cosine similarities match expectations and exhibit sound logical results."
   ]
  }
 ],
 "metadata": {
  "kernelspec": {
   "display_name": "Python 3",
   "language": "python",
   "name": "python3"
  },
  "language_info": {
   "codemirror_mode": {
    "name": "ipython",
    "version": 3
   },
   "file_extension": ".py",
   "mimetype": "text/x-python",
   "name": "python",
   "nbconvert_exporter": "python",
   "pygments_lexer": "ipython3",
   "version": "3.8.5"
  }
 },
 "nbformat": 4,
 "nbformat_minor": 4
}
